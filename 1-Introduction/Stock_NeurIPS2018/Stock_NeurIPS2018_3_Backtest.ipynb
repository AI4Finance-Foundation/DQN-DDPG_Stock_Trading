{
 "nbformat": 4,
 "nbformat_minor": 0,
 "metadata": {
  "colab": {
   "provenance": [],
   "collapsed_sections": [
    "GfZ5vY5wRjkJ"
   ]
  },
  "kernelspec": {
   "name": "python3",
   "display_name": "Python 3"
  },
  "language_info": {
   "name": "python"
  }
 },
 "cells": [
  {
   "cell_type": "markdown",
   "source": [
    "# Stock NeurIPS2018 Part 3. Backtest\n",
    "This series is a reproduction of paper *the process in the paper Practical Deep Reinforcement Learning Approach for Stock Trading*. \n",
    "\n",
    "This is the third and last part of the NeurIPS2018 series, introducing how to use use the agents we trained to do backtest, and compare with baselines such as Mean Variance Optimization and DJIA index.\n",
    "\n",
    "Other demos can be found at the repo of [FinRL-Tutorials]((https://github.com/AI4Finance-Foundation/FinRL-Tutorials))."
   ],
   "metadata": {
    "id": "v7Cycmf3Zbok"
   }
  },
  {
   "cell_type": "markdown",
   "source": [
    "# Part 1. Install Packages"
   ],
   "metadata": {
    "id": "1oWbj4HgqHBg"
   }
  },
  {
   "cell_type": "code",
   "execution_count": 1,
   "metadata": {
    "id": "QJgoEYx3p_NG"
   },
   "outputs": [
    {
     "name": "stdout",
     "output_type": "stream",
     "text": [
      "Requirement already satisfied: swig in /Users/mingzhu/opt/anaconda3/lib/python3.9/site-packages (4.1.1)\r\n",
      "Requirement already satisfied: wrds in /Users/mingzhu/opt/anaconda3/lib/python3.9/site-packages (3.1.1)\r\n",
      "Requirement already satisfied: mock in /Users/mingzhu/opt/anaconda3/lib/python3.9/site-packages (from wrds) (4.0.3)\r\n",
      "Requirement already satisfied: sqlalchemy in /Users/mingzhu/opt/anaconda3/lib/python3.9/site-packages (from wrds) (1.4.45)\r\n",
      "Requirement already satisfied: numpy in /Users/mingzhu/opt/anaconda3/lib/python3.9/site-packages (from wrds) (1.22.4)\r\n",
      "Requirement already satisfied: psycopg2-binary in /Users/mingzhu/opt/anaconda3/lib/python3.9/site-packages (from wrds) (2.9.3)\r\n",
      "Requirement already satisfied: pandas in /Users/mingzhu/opt/anaconda3/lib/python3.9/site-packages (from wrds) (1.4.2)\r\n",
      "Requirement already satisfied: python-dateutil>=2.8.1 in /Users/mingzhu/opt/anaconda3/lib/python3.9/site-packages (from pandas->wrds) (2.8.2)\r\n",
      "Requirement already satisfied: pytz>=2020.1 in /Users/mingzhu/opt/anaconda3/lib/python3.9/site-packages (from pandas->wrds) (2021.3)\r\n",
      "Requirement already satisfied: six>=1.5 in /Users/mingzhu/opt/anaconda3/lib/python3.9/site-packages (from python-dateutil>=2.8.1->pandas->wrds) (1.16.0)\r\n",
      "Requirement already satisfied: greenlet!=0.4.17 in /Users/mingzhu/opt/anaconda3/lib/python3.9/site-packages (from sqlalchemy->wrds) (1.1.1)\r\n",
      "Requirement already satisfied: pyportfolioopt in /Users/mingzhu/opt/anaconda3/lib/python3.9/site-packages (1.5.3)\r\n",
      "Requirement already satisfied: scipy<2.0,>=1.3 in /Users/mingzhu/opt/anaconda3/lib/python3.9/site-packages (from pyportfolioopt) (1.7.3)\r\n",
      "Requirement already satisfied: cvxpy<2.0.0,>=1.1.10 in /Users/mingzhu/opt/anaconda3/lib/python3.9/site-packages (from pyportfolioopt) (1.2.1)\r\n",
      "Requirement already satisfied: numpy<2.0.0,>=1.22.4 in /Users/mingzhu/opt/anaconda3/lib/python3.9/site-packages (from pyportfolioopt) (1.22.4)\r\n",
      "Requirement already satisfied: pandas>=0.19 in /Users/mingzhu/opt/anaconda3/lib/python3.9/site-packages (from pyportfolioopt) (1.4.2)\r\n",
      "Requirement already satisfied: osqp>=0.4.1 in /Users/mingzhu/opt/anaconda3/lib/python3.9/site-packages (from cvxpy<2.0.0,>=1.1.10->pyportfolioopt) (0.6.2.post5)\r\n",
      "Requirement already satisfied: ecos>=2 in /Users/mingzhu/opt/anaconda3/lib/python3.9/site-packages (from cvxpy<2.0.0,>=1.1.10->pyportfolioopt) (2.0.10)\r\n",
      "Requirement already satisfied: scs>=1.1.6 in /Users/mingzhu/opt/anaconda3/lib/python3.9/site-packages (from cvxpy<2.0.0,>=1.1.10->pyportfolioopt) (3.2.0)\r\n",
      "Requirement already satisfied: qdldl in /Users/mingzhu/opt/anaconda3/lib/python3.9/site-packages (from osqp>=0.4.1->cvxpy<2.0.0,>=1.1.10->pyportfolioopt) (0.1.5.post2)\r\n",
      "Requirement already satisfied: python-dateutil>=2.8.1 in /Users/mingzhu/opt/anaconda3/lib/python3.9/site-packages (from pandas>=0.19->pyportfolioopt) (2.8.2)\r\n",
      "Requirement already satisfied: pytz>=2020.1 in /Users/mingzhu/opt/anaconda3/lib/python3.9/site-packages (from pandas>=0.19->pyportfolioopt) (2021.3)\r\n",
      "Requirement already satisfied: six>=1.5 in /Users/mingzhu/opt/anaconda3/lib/python3.9/site-packages (from python-dateutil>=2.8.1->pandas>=0.19->pyportfolioopt) (1.16.0)\r\n",
      "Collecting git+https://github.com/AI4Finance-Foundation/FinRL.git\r\n",
      "  Cloning https://github.com/AI4Finance-Foundation/FinRL.git to /private/var/folders/6h/lpcm_n7d1hg47zhs852wxbt40000gn/T/pip-req-build-jtss3y43\r\n",
      "  Running command git clone -q https://github.com/AI4Finance-Foundation/FinRL.git /private/var/folders/6h/lpcm_n7d1hg47zhs852wxbt40000gn/T/pip-req-build-jtss3y43\r\n",
      "  Resolved https://github.com/AI4Finance-Foundation/FinRL.git to commit aee4d1f2ee72aedff89fc88eda91173ff58e4f8d\r\n",
      "  Installing build dependencies ... \u001B[?25ldone\r\n",
      "\u001B[?25h  Getting requirements to build wheel ... \u001B[?25ldone\r\n",
      "\u001B[?25h    Preparing wheel metadata ... \u001B[?25ldone\r\n",
      "\u001B[?25hCollecting elegantrl@ git+https://github.com/AI4Finance-Foundation/ElegantRL.git#egg=elegantrl\r\n",
      "  Cloning https://github.com/AI4Finance-Foundation/ElegantRL.git to /private/var/folders/6h/lpcm_n7d1hg47zhs852wxbt40000gn/T/pip-install-r8r52je_/elegantrl_ba4fb6f6a8e44049b0ab8eaf67b0624b\r\n",
      "  Running command git clone -q https://github.com/AI4Finance-Foundation/ElegantRL.git /private/var/folders/6h/lpcm_n7d1hg47zhs852wxbt40000gn/T/pip-install-r8r52je_/elegantrl_ba4fb6f6a8e44049b0ab8eaf67b0624b\r\n",
      "  Resolved https://github.com/AI4Finance-Foundation/ElegantRL.git to commit 68bf0ea4ef3fb461026ece8897deabb92aeead32\r\n",
      "Collecting pyfolio@ git+https://github.com/quantopian/pyfolio.git#egg=pyfolio-0.9.2\r\n",
      "  Cloning https://github.com/quantopian/pyfolio.git to /private/var/folders/6h/lpcm_n7d1hg47zhs852wxbt40000gn/T/pip-install-r8r52je_/pyfolio_42da13f749fe44c4acc4de2c8328d35c\r\n",
      "  Running command git clone -q https://github.com/quantopian/pyfolio.git /private/var/folders/6h/lpcm_n7d1hg47zhs852wxbt40000gn/T/pip-install-r8r52je_/pyfolio_42da13f749fe44c4acc4de2c8328d35c\r\n",
      "  Resolved https://github.com/quantopian/pyfolio.git to commit 4b901f6d73aa02ceb6d04b7d83502e5c6f2e81aa\r\n",
      "Requirement already satisfied: alpaca_trade_api>=2.1.0 in /Users/mingzhu/opt/anaconda3/lib/python3.9/site-packages (from finrl==0.3.5) (2.3.0)\r\n",
      "Requirement already satisfied: gym>=0.17 in /Users/mingzhu/opt/anaconda3/lib/python3.9/site-packages (from finrl==0.3.5) (0.21.0)\r\n",
      "Requirement already satisfied: gputil in /Users/mingzhu/opt/anaconda3/lib/python3.9/site-packages (from finrl==0.3.5) (1.4.0)\r\n",
      "Requirement already satisfied: numpy>=1.17.3 in /Users/mingzhu/opt/anaconda3/lib/python3.9/site-packages (from finrl==0.3.5) (1.22.4)\r\n",
      "Requirement already satisfied: yfinance in /Users/mingzhu/opt/anaconda3/lib/python3.9/site-packages (from finrl==0.3.5) (0.1.70)\r\n",
      "Requirement already satisfied: stockstats>=0.4.0 in /Users/mingzhu/opt/anaconda3/lib/python3.9/site-packages (from finrl==0.3.5) (0.4.1)\r\n",
      "Collecting ray[default,tune]>=2.0.0\r\n",
      "  Downloading ray-2.3.0-cp39-cp39-macosx_10_15_x86_64.whl (78.0 MB)\r\n",
      "\u001B[K     |████████████████████████████████| 78.0 MB 102 kB/s eta 0:00:01\r\n",
      "\u001B[?25hRequirement already satisfied: ccxt>=1.66.32 in /Users/mingzhu/opt/anaconda3/lib/python3.9/site-packages (from finrl==0.3.5) (1.66.32)\r\n",
      "Requirement already satisfied: tensorboardX in /Users/mingzhu/opt/anaconda3/lib/python3.9/site-packages (from finrl==0.3.5) (2.5)\r\n",
      "Requirement already satisfied: importlib-metadata==4.13.0 in /Users/mingzhu/opt/anaconda3/lib/python3.9/site-packages (from finrl==0.3.5) (4.13.0)\r\n",
      "Collecting stable-baselines3<2.0.0,>=1.6.2\r\n",
      "  Downloading stable_baselines3-1.7.0-py3-none-any.whl (171 kB)\r\n",
      "\u001B[K     |████████████████████████████████| 171 kB 121 kB/s eta 0:00:01\r\n",
      "\u001B[?25hRequirement already satisfied: pandas>=1.1.5 in /Users/mingzhu/opt/anaconda3/lib/python3.9/site-packages (from finrl==0.3.5) (1.4.2)\r\n",
      "Requirement already satisfied: jqdatasdk in /Users/mingzhu/opt/anaconda3/lib/python3.9/site-packages (from finrl==0.3.5) (1.8.10)\r\n",
      "Requirement already satisfied: lz4 in /Users/mingzhu/opt/anaconda3/lib/python3.9/site-packages (from finrl==0.3.5) (4.0.2)\r\n",
      "Requirement already satisfied: scikit-learn>=0.21.0 in /Users/mingzhu/opt/anaconda3/lib/python3.9/site-packages (from finrl==0.3.5) (1.0.2)\r\n",
      "Requirement already satisfied: exchange_calendars==3.6.3 in /Users/mingzhu/opt/anaconda3/lib/python3.9/site-packages (from finrl==0.3.5) (3.6.3)\r\n",
      "Requirement already satisfied: matplotlib in /Users/mingzhu/opt/anaconda3/lib/python3.9/site-packages (from finrl==0.3.5) (3.5.1)\r\n",
      "Requirement already satisfied: python-dateutil in /Users/mingzhu/opt/anaconda3/lib/python3.9/site-packages (from exchange_calendars==3.6.3->finrl==0.3.5) (2.8.2)\r\n",
      "Requirement already satisfied: korean-lunar-calendar in /Users/mingzhu/opt/anaconda3/lib/python3.9/site-packages (from exchange_calendars==3.6.3->finrl==0.3.5) (0.2.1)\r\n",
      "Requirement already satisfied: toolz in /Users/mingzhu/opt/anaconda3/lib/python3.9/site-packages (from exchange_calendars==3.6.3->finrl==0.3.5) (0.11.2)\r\n",
      "Requirement already satisfied: pyluach in /Users/mingzhu/opt/anaconda3/lib/python3.9/site-packages (from exchange_calendars==3.6.3->finrl==0.3.5) (2.0.0)\r\n",
      "Requirement already satisfied: pytz in /Users/mingzhu/opt/anaconda3/lib/python3.9/site-packages (from exchange_calendars==3.6.3->finrl==0.3.5) (2021.3)\r\n",
      "Requirement already satisfied: zipp>=0.5 in /Users/mingzhu/opt/anaconda3/lib/python3.9/site-packages (from importlib-metadata==4.13.0->finrl==0.3.5) (3.7.0)\r\n",
      "Requirement already satisfied: msgpack==1.0.3 in /Users/mingzhu/opt/anaconda3/lib/python3.9/site-packages (from alpaca_trade_api>=2.1.0->finrl==0.3.5) (1.0.3)\r\n",
      "Requirement already satisfied: websocket-client<2,>=0.56.0 in /Users/mingzhu/opt/anaconda3/lib/python3.9/site-packages (from alpaca_trade_api>=2.1.0->finrl==0.3.5) (0.57.0)\r\n",
      "Requirement already satisfied: aiohttp==3.8.1 in /Users/mingzhu/opt/anaconda3/lib/python3.9/site-packages (from alpaca_trade_api>=2.1.0->finrl==0.3.5) (3.8.1)\r\n",
      "Requirement already satisfied: deprecation==2.1.0 in /Users/mingzhu/opt/anaconda3/lib/python3.9/site-packages (from alpaca_trade_api>=2.1.0->finrl==0.3.5) (2.1.0)\r\n",
      "Requirement already satisfied: PyYAML==6.0 in /Users/mingzhu/opt/anaconda3/lib/python3.9/site-packages (from alpaca_trade_api>=2.1.0->finrl==0.3.5) (6.0)\r\n",
      "Requirement already satisfied: urllib3<2,>1.24 in /Users/mingzhu/opt/anaconda3/lib/python3.9/site-packages (from alpaca_trade_api>=2.1.0->finrl==0.3.5) (1.26.12)\r\n",
      "Requirement already satisfied: requests<3,>2 in /Users/mingzhu/opt/anaconda3/lib/python3.9/site-packages (from alpaca_trade_api>=2.1.0->finrl==0.3.5) (2.27.1)\r\n",
      "Requirement already satisfied: websockets<11,>=9.0 in /Users/mingzhu/opt/anaconda3/lib/python3.9/site-packages (from alpaca_trade_api>=2.1.0->finrl==0.3.5) (10.3)\r\n",
      "Requirement already satisfied: aiosignal>=1.1.2 in /Users/mingzhu/opt/anaconda3/lib/python3.9/site-packages (from aiohttp==3.8.1->alpaca_trade_api>=2.1.0->finrl==0.3.5) (1.2.0)\r\n",
      "Requirement already satisfied: attrs>=17.3.0 in /Users/mingzhu/opt/anaconda3/lib/python3.9/site-packages (from aiohttp==3.8.1->alpaca_trade_api>=2.1.0->finrl==0.3.5) (21.4.0)\r\n",
      "Requirement already satisfied: charset-normalizer<3.0,>=2.0 in /Users/mingzhu/opt/anaconda3/lib/python3.9/site-packages (from aiohttp==3.8.1->alpaca_trade_api>=2.1.0->finrl==0.3.5) (2.0.4)\r\n",
      "Requirement already satisfied: frozenlist>=1.1.1 in /Users/mingzhu/opt/anaconda3/lib/python3.9/site-packages (from aiohttp==3.8.1->alpaca_trade_api>=2.1.0->finrl==0.3.5) (1.2.0)\r\n",
      "Requirement already satisfied: multidict<7.0,>=4.5 in /Users/mingzhu/opt/anaconda3/lib/python3.9/site-packages (from aiohttp==3.8.1->alpaca_trade_api>=2.1.0->finrl==0.3.5) (5.2.0)\r\n",
      "Requirement already satisfied: yarl<2.0,>=1.0 in /Users/mingzhu/opt/anaconda3/lib/python3.9/site-packages (from aiohttp==3.8.1->alpaca_trade_api>=2.1.0->finrl==0.3.5) (1.7.2)\r\n",
      "Requirement already satisfied: async-timeout<5.0,>=4.0.0a3 in /Users/mingzhu/opt/anaconda3/lib/python3.9/site-packages (from aiohttp==3.8.1->alpaca_trade_api>=2.1.0->finrl==0.3.5) (4.0.2)\r\n",
      "Requirement already satisfied: packaging in /Users/mingzhu/opt/anaconda3/lib/python3.9/site-packages (from deprecation==2.1.0->alpaca_trade_api>=2.1.0->finrl==0.3.5) (21.3)\r\n",
      "Requirement already satisfied: cryptography>=2.6.1 in /Users/mingzhu/opt/anaconda3/lib/python3.9/site-packages (from ccxt>=1.66.32->finrl==0.3.5) (3.4.8)\r\n",
      "Requirement already satisfied: setuptools>=38.5.1 in /Users/mingzhu/opt/anaconda3/lib/python3.9/site-packages (from ccxt>=1.66.32->finrl==0.3.5) (59.5.0)\r\n",
      "Requirement already satisfied: certifi>=2018.1.18 in /Users/mingzhu/opt/anaconda3/lib/python3.9/site-packages (from ccxt>=1.66.32->finrl==0.3.5) (2021.10.8)\r\n",
      "Requirement already satisfied: aiodns>=1.1.1 in /Users/mingzhu/opt/anaconda3/lib/python3.9/site-packages (from ccxt>=1.66.32->finrl==0.3.5) (3.0.0)\r\n",
      "Requirement already satisfied: idna>=2.0 in /Users/mingzhu/opt/anaconda3/lib/python3.9/site-packages (from yarl<2.0,>=1.0->aiohttp==3.8.1->alpaca_trade_api>=2.1.0->finrl==0.3.5) (2.10)\r\n",
      "Requirement already satisfied: pycares>=4.0.0 in /Users/mingzhu/opt/anaconda3/lib/python3.9/site-packages (from aiodns>=1.1.1->ccxt>=1.66.32->finrl==0.3.5) (4.1.2)\r\n",
      "Requirement already satisfied: cffi>=1.12 in /Users/mingzhu/opt/anaconda3/lib/python3.9/site-packages (from cryptography>=2.6.1->ccxt>=1.66.32->finrl==0.3.5) (1.15.0)\r\n",
      "Requirement already satisfied: pycparser in /Users/mingzhu/opt/anaconda3/lib/python3.9/site-packages (from cffi>=1.12->cryptography>=2.6.1->ccxt>=1.66.32->finrl==0.3.5) (2.21)\r\n",
      "Requirement already satisfied: cloudpickle>=1.2.0 in /Users/mingzhu/opt/anaconda3/lib/python3.9/site-packages (from gym>=0.17->finrl==0.3.5) (2.0.0)\r\n",
      "Requirement already satisfied: six>=1.5 in /Users/mingzhu/opt/anaconda3/lib/python3.9/site-packages (from python-dateutil->exchange_calendars==3.6.3->finrl==0.3.5) (1.16.0)\r\n",
      "Requirement already satisfied: jsonschema in /Users/mingzhu/opt/anaconda3/lib/python3.9/site-packages (from ray[default,tune]>=2.0.0->finrl==0.3.5) (4.4.0)\r\n",
      "Requirement already satisfied: filelock in /Users/mingzhu/opt/anaconda3/lib/python3.9/site-packages (from ray[default,tune]>=2.0.0->finrl==0.3.5) (3.6.0)\r\n",
      "Requirement already satisfied: click>=7.0 in /Users/mingzhu/opt/anaconda3/lib/python3.9/site-packages (from ray[default,tune]>=2.0.0->finrl==0.3.5) (7.1.2)\r\n",
      "Requirement already satisfied: virtualenv>=20.0.24 in /Users/mingzhu/opt/anaconda3/lib/python3.9/site-packages (from ray[default,tune]>=2.0.0->finrl==0.3.5) (20.14.1)\r\n",
      "Requirement already satisfied: protobuf!=3.19.5,>=3.15.3 in /Users/mingzhu/opt/anaconda3/lib/python3.9/site-packages (from ray[default,tune]>=2.0.0->finrl==0.3.5) (3.19.1)\r\n",
      "Requirement already satisfied: grpcio<=1.49.1,>=1.32.0 in /Users/mingzhu/opt/anaconda3/lib/python3.9/site-packages (from ray[default,tune]>=2.0.0->finrl==0.3.5) (1.42.0)\r\n",
      "Requirement already satisfied: tabulate in /Users/mingzhu/opt/anaconda3/lib/python3.9/site-packages (from ray[default,tune]>=2.0.0->finrl==0.3.5) (0.8.9)\r\n",
      "Collecting pydantic\r\n",
      "  Downloading pydantic-1.10.6-cp39-cp39-macosx_10_9_x86_64.whl (2.9 MB)\r\n",
      "\u001B[K     |████████████████████████████████| 2.9 MB 277 kB/s eta 0:00:01\r\n",
      "\u001B[?25hRequirement already satisfied: opencensus in /Users/mingzhu/opt/anaconda3/lib/python3.9/site-packages (from ray[default,tune]>=2.0.0->finrl==0.3.5) (0.9.0)\r\n",
      "Requirement already satisfied: py-spy>=0.2.0 in /Users/mingzhu/opt/anaconda3/lib/python3.9/site-packages (from ray[default,tune]>=2.0.0->finrl==0.3.5) (0.3.12)\r\n",
      "Collecting gpustat>=1.0.0\r\n",
      "  Downloading gpustat-1.0.0.tar.gz (90 kB)\r\n",
      "\u001B[K     |████████████████████████████████| 90 kB 299 kB/s eta 0:00:01\r\n",
      "\u001B[?25hRequirement already satisfied: aiohttp-cors in /Users/mingzhu/opt/anaconda3/lib/python3.9/site-packages (from ray[default,tune]>=2.0.0->finrl==0.3.5) (0.7.0)\r\n",
      "Requirement already satisfied: prometheus-client>=0.7.1 in /Users/mingzhu/opt/anaconda3/lib/python3.9/site-packages (from ray[default,tune]>=2.0.0->finrl==0.3.5) (0.13.1)\r\n",
      "Requirement already satisfied: smart-open in /Users/mingzhu/opt/anaconda3/lib/python3.9/site-packages (from ray[default,tune]>=2.0.0->finrl==0.3.5) (5.1.0)\r\n",
      "Requirement already satisfied: colorful in /Users/mingzhu/opt/anaconda3/lib/python3.9/site-packages (from ray[default,tune]>=2.0.0->finrl==0.3.5) (0.5.4)\r\n",
      "Collecting nvidia-ml-py<=11.495.46,>=11.450.129\r\n",
      "  Downloading nvidia_ml_py-11.495.46-py3-none-any.whl (25 kB)\r\n",
      "Requirement already satisfied: psutil>=5.6.0 in /Users/mingzhu/opt/anaconda3/lib/python3.9/site-packages (from gpustat>=1.0.0->ray[default,tune]>=2.0.0->finrl==0.3.5) (5.8.0)\r\n",
      "Requirement already satisfied: blessed>=1.17.1 in /Users/mingzhu/opt/anaconda3/lib/python3.9/site-packages (from gpustat>=1.0.0->ray[default,tune]>=2.0.0->finrl==0.3.5) (1.19.1)\r\n",
      "Requirement already satisfied: wcwidth>=0.1.4 in /Users/mingzhu/opt/anaconda3/lib/python3.9/site-packages (from blessed>=1.17.1->gpustat>=1.0.0->ray[default,tune]>=2.0.0->finrl==0.3.5) (0.2.5)\r\n",
      "Requirement already satisfied: threadpoolctl>=2.0.0 in /Users/mingzhu/opt/anaconda3/lib/python3.9/site-packages (from scikit-learn>=0.21.0->finrl==0.3.5) (2.2.0)\r\n",
      "Requirement already satisfied: joblib>=0.11 in /Users/mingzhu/opt/anaconda3/lib/python3.9/site-packages (from scikit-learn>=0.21.0->finrl==0.3.5) (1.2.0)\r\n",
      "Requirement already satisfied: scipy>=1.1.0 in /Users/mingzhu/opt/anaconda3/lib/python3.9/site-packages (from scikit-learn>=0.21.0->finrl==0.3.5) (1.7.3)\r\n",
      "Requirement already satisfied: torch>=1.11 in /Users/mingzhu/opt/anaconda3/lib/python3.9/site-packages (from stable-baselines3<2.0.0,>=1.6.2->finrl==0.3.5) (1.13.1)\r\n",
      "Requirement already satisfied: typing-extensions in /Users/mingzhu/opt/anaconda3/lib/python3.9/site-packages (from torch>=1.11->stable-baselines3<2.0.0,>=1.6.2->finrl==0.3.5) (4.1.1)\r\n",
      "Requirement already satisfied: distlib<1,>=0.3.1 in /Users/mingzhu/opt/anaconda3/lib/python3.9/site-packages (from virtualenv>=20.0.24->ray[default,tune]>=2.0.0->finrl==0.3.5) (0.3.4)\r\n",
      "Requirement already satisfied: platformdirs<3,>=2 in /Users/mingzhu/opt/anaconda3/lib/python3.9/site-packages (from virtualenv>=20.0.24->ray[default,tune]>=2.0.0->finrl==0.3.5) (2.5.2)\r\n",
      "Requirement already satisfied: box2d-py==2.3.5 in /Users/mingzhu/opt/anaconda3/lib/python3.9/site-packages (from gym>=0.17->finrl==0.3.5) (2.3.5)\r\n",
      "Requirement already satisfied: pyglet>=1.4.0 in /Users/mingzhu/opt/anaconda3/lib/python3.9/site-packages (from gym>=0.17->finrl==0.3.5) (2.0.0)\r\n",
      "Requirement already satisfied: pymysql>=0.7.6 in /Users/mingzhu/opt/anaconda3/lib/python3.9/site-packages (from jqdatasdk->finrl==0.3.5) (1.0.2)\r\n",
      "Requirement already satisfied: SQLAlchemy>=1.2.8 in /Users/mingzhu/opt/anaconda3/lib/python3.9/site-packages (from jqdatasdk->finrl==0.3.5) (1.4.45)\r\n",
      "Requirement already satisfied: thriftpy2>=0.3.9 in /Users/mingzhu/opt/anaconda3/lib/python3.9/site-packages (from jqdatasdk->finrl==0.3.5) (0.4.14)\r\n",
      "Requirement already satisfied: greenlet!=0.4.17 in /Users/mingzhu/opt/anaconda3/lib/python3.9/site-packages (from SQLAlchemy>=1.2.8->jqdatasdk->finrl==0.3.5) (1.1.1)\r\n",
      "Requirement already satisfied: ply<4.0,>=3.4 in /Users/mingzhu/opt/anaconda3/lib/python3.9/site-packages (from thriftpy2>=0.3.9->jqdatasdk->finrl==0.3.5) (3.11)\r\n",
      "Requirement already satisfied: pyrsistent!=0.17.0,!=0.17.1,!=0.17.2,>=0.14.0 in /Users/mingzhu/opt/anaconda3/lib/python3.9/site-packages (from jsonschema->ray[default,tune]>=2.0.0->finrl==0.3.5) (0.18.0)\r\n",
      "Requirement already satisfied: kiwisolver>=1.0.1 in /Users/mingzhu/opt/anaconda3/lib/python3.9/site-packages (from matplotlib->finrl==0.3.5) (1.3.2)\r\n",
      "Requirement already satisfied: pillow>=6.2.0 in /Users/mingzhu/opt/anaconda3/lib/python3.9/site-packages (from matplotlib->finrl==0.3.5) (9.0.1)\r\n",
      "Requirement already satisfied: pyparsing>=2.2.1 in /Users/mingzhu/opt/anaconda3/lib/python3.9/site-packages (from matplotlib->finrl==0.3.5) (3.0.4)\r\n",
      "Requirement already satisfied: cycler>=0.10 in /Users/mingzhu/opt/anaconda3/lib/python3.9/site-packages (from matplotlib->finrl==0.3.5) (0.11.0)\r\n",
      "Requirement already satisfied: fonttools>=4.22.0 in /Users/mingzhu/opt/anaconda3/lib/python3.9/site-packages (from matplotlib->finrl==0.3.5) (4.25.0)\r\n",
      "Requirement already satisfied: opencensus-context>=0.1.2 in /Users/mingzhu/opt/anaconda3/lib/python3.9/site-packages (from opencensus->ray[default,tune]>=2.0.0->finrl==0.3.5) (0.1.2)\r\n",
      "Requirement already satisfied: google-api-core<3.0.0,>=1.0.0 in /Users/mingzhu/opt/anaconda3/lib/python3.9/site-packages (from opencensus->ray[default,tune]>=2.0.0->finrl==0.3.5) (1.25.1)\r\n",
      "Requirement already satisfied: google-auth<2.0dev,>=1.21.1 in /Users/mingzhu/opt/anaconda3/lib/python3.9/site-packages (from google-api-core<3.0.0,>=1.0.0->opencensus->ray[default,tune]>=2.0.0->finrl==0.3.5) (1.33.0)\r\n",
      "Requirement already satisfied: googleapis-common-protos<2.0dev,>=1.6.0 in /Users/mingzhu/opt/anaconda3/lib/python3.9/site-packages (from google-api-core<3.0.0,>=1.0.0->opencensus->ray[default,tune]>=2.0.0->finrl==0.3.5) (1.53.0)\r\n",
      "Requirement already satisfied: rsa<5,>=3.1.4 in /Users/mingzhu/opt/anaconda3/lib/python3.9/site-packages (from google-auth<2.0dev,>=1.21.1->google-api-core<3.0.0,>=1.0.0->opencensus->ray[default,tune]>=2.0.0->finrl==0.3.5) (4.7.2)\r\n",
      "Requirement already satisfied: cachetools<5.0,>=2.0.0 in /Users/mingzhu/opt/anaconda3/lib/python3.9/site-packages (from google-auth<2.0dev,>=1.21.1->google-api-core<3.0.0,>=1.0.0->opencensus->ray[default,tune]>=2.0.0->finrl==0.3.5) (4.2.2)\r\n",
      "Requirement already satisfied: pyasn1-modules>=0.2.1 in /Users/mingzhu/opt/anaconda3/lib/python3.9/site-packages (from google-auth<2.0dev,>=1.21.1->google-api-core<3.0.0,>=1.0.0->opencensus->ray[default,tune]>=2.0.0->finrl==0.3.5) (0.2.8)\r\n",
      "Requirement already satisfied: pyasn1<0.5.0,>=0.4.6 in /Users/mingzhu/opt/anaconda3/lib/python3.9/site-packages (from pyasn1-modules>=0.2.1->google-auth<2.0dev,>=1.21.1->google-api-core<3.0.0,>=1.0.0->opencensus->ray[default,tune]>=2.0.0->finrl==0.3.5) (0.4.8)\r\n",
      "Collecting typing-extensions\r\n",
      "  Downloading typing_extensions-4.5.0-py3-none-any.whl (27 kB)\r\n",
      "Requirement already satisfied: ipython>=3.2.3 in /Users/mingzhu/opt/anaconda3/lib/python3.9/site-packages (from pyfolio@ git+https://github.com/quantopian/pyfolio.git#egg=pyfolio-0.9.2->finrl==0.3.5) (8.2.0)\r\n",
      "Requirement already satisfied: seaborn>=0.7.1 in /Users/mingzhu/opt/anaconda3/lib/python3.9/site-packages (from pyfolio@ git+https://github.com/quantopian/pyfolio.git#egg=pyfolio-0.9.2->finrl==0.3.5) (0.11.2)\r\n",
      "Requirement already satisfied: empyrical>=0.5.0 in /Users/mingzhu/opt/anaconda3/lib/python3.9/site-packages (from pyfolio@ git+https://github.com/quantopian/pyfolio.git#egg=pyfolio-0.9.2->finrl==0.3.5) (0.5.5)\r\n",
      "Requirement already satisfied: pandas-datareader>=0.2 in /Users/mingzhu/opt/anaconda3/lib/python3.9/site-packages (from empyrical>=0.5.0->pyfolio@ git+https://github.com/quantopian/pyfolio.git#egg=pyfolio-0.9.2->finrl==0.3.5) (0.10.0)\r\n",
      "Requirement already satisfied: pickleshare in /Users/mingzhu/opt/anaconda3/lib/python3.9/site-packages (from ipython>=3.2.3->pyfolio@ git+https://github.com/quantopian/pyfolio.git#egg=pyfolio-0.9.2->finrl==0.3.5) (0.7.5)\r\n",
      "Requirement already satisfied: pygments>=2.4.0 in /Users/mingzhu/opt/anaconda3/lib/python3.9/site-packages (from ipython>=3.2.3->pyfolio@ git+https://github.com/quantopian/pyfolio.git#egg=pyfolio-0.9.2->finrl==0.3.5) (2.14.0)\r\n",
      "Requirement already satisfied: backcall in /Users/mingzhu/opt/anaconda3/lib/python3.9/site-packages (from ipython>=3.2.3->pyfolio@ git+https://github.com/quantopian/pyfolio.git#egg=pyfolio-0.9.2->finrl==0.3.5) (0.2.0)\r\n",
      "Requirement already satisfied: prompt-toolkit!=3.0.0,!=3.0.1,<3.1.0,>=2.0.0 in /Users/mingzhu/opt/anaconda3/lib/python3.9/site-packages (from ipython>=3.2.3->pyfolio@ git+https://github.com/quantopian/pyfolio.git#egg=pyfolio-0.9.2->finrl==0.3.5) (3.0.20)\r\n",
      "Requirement already satisfied: appnope in /Users/mingzhu/opt/anaconda3/lib/python3.9/site-packages (from ipython>=3.2.3->pyfolio@ git+https://github.com/quantopian/pyfolio.git#egg=pyfolio-0.9.2->finrl==0.3.5) (0.1.2)\r\n",
      "Requirement already satisfied: matplotlib-inline in /Users/mingzhu/opt/anaconda3/lib/python3.9/site-packages (from ipython>=3.2.3->pyfolio@ git+https://github.com/quantopian/pyfolio.git#egg=pyfolio-0.9.2->finrl==0.3.5) (0.1.2)\r\n",
      "Requirement already satisfied: pexpect>4.3 in /Users/mingzhu/opt/anaconda3/lib/python3.9/site-packages (from ipython>=3.2.3->pyfolio@ git+https://github.com/quantopian/pyfolio.git#egg=pyfolio-0.9.2->finrl==0.3.5) (4.8.0)\r\n",
      "Requirement already satisfied: jedi>=0.16 in /Users/mingzhu/opt/anaconda3/lib/python3.9/site-packages (from ipython>=3.2.3->pyfolio@ git+https://github.com/quantopian/pyfolio.git#egg=pyfolio-0.9.2->finrl==0.3.5) (0.18.1)\r\n",
      "Requirement already satisfied: traitlets>=5 in /Users/mingzhu/opt/anaconda3/lib/python3.9/site-packages (from ipython>=3.2.3->pyfolio@ git+https://github.com/quantopian/pyfolio.git#egg=pyfolio-0.9.2->finrl==0.3.5) (5.1.1)\r\n",
      "Requirement already satisfied: stack-data in /Users/mingzhu/opt/anaconda3/lib/python3.9/site-packages (from ipython>=3.2.3->pyfolio@ git+https://github.com/quantopian/pyfolio.git#egg=pyfolio-0.9.2->finrl==0.3.5) (0.2.0)\r\n",
      "Requirement already satisfied: decorator in /Users/mingzhu/opt/anaconda3/lib/python3.9/site-packages (from ipython>=3.2.3->pyfolio@ git+https://github.com/quantopian/pyfolio.git#egg=pyfolio-0.9.2->finrl==0.3.5) (5.1.1)\r\n",
      "Requirement already satisfied: parso<0.9.0,>=0.8.0 in /Users/mingzhu/opt/anaconda3/lib/python3.9/site-packages (from jedi>=0.16->ipython>=3.2.3->pyfolio@ git+https://github.com/quantopian/pyfolio.git#egg=pyfolio-0.9.2->finrl==0.3.5) (0.8.3)\r\n",
      "Requirement already satisfied: lxml in /Users/mingzhu/opt/anaconda3/lib/python3.9/site-packages (from pandas-datareader>=0.2->empyrical>=0.5.0->pyfolio@ git+https://github.com/quantopian/pyfolio.git#egg=pyfolio-0.9.2->finrl==0.3.5) (4.8.0)\r\n",
      "Requirement already satisfied: ptyprocess>=0.5 in /Users/mingzhu/opt/anaconda3/lib/python3.9/site-packages (from pexpect>4.3->ipython>=3.2.3->pyfolio@ git+https://github.com/quantopian/pyfolio.git#egg=pyfolio-0.9.2->finrl==0.3.5) (0.7.0)\r\n",
      "Requirement already satisfied: pure-eval in /Users/mingzhu/opt/anaconda3/lib/python3.9/site-packages (from stack-data->ipython>=3.2.3->pyfolio@ git+https://github.com/quantopian/pyfolio.git#egg=pyfolio-0.9.2->finrl==0.3.5) (0.2.2)\r\n",
      "Requirement already satisfied: asttokens in /Users/mingzhu/opt/anaconda3/lib/python3.9/site-packages (from stack-data->ipython>=3.2.3->pyfolio@ git+https://github.com/quantopian/pyfolio.git#egg=pyfolio-0.9.2->finrl==0.3.5) (2.0.5)\r\n",
      "Requirement already satisfied: executing in /Users/mingzhu/opt/anaconda3/lib/python3.9/site-packages (from stack-data->ipython>=3.2.3->pyfolio@ git+https://github.com/quantopian/pyfolio.git#egg=pyfolio-0.9.2->finrl==0.3.5) (0.8.3)\r\n",
      "Requirement already satisfied: multitasking>=0.0.7 in /Users/mingzhu/opt/anaconda3/lib/python3.9/site-packages (from yfinance->finrl==0.3.5) (0.0.10)\r\n",
      "Building wheels for collected packages: gpustat\r\n",
      "  Building wheel for gpustat (setup.py) ... \u001B[?25ldone\r\n",
      "\u001B[?25h  Created wheel for gpustat: filename=gpustat-1.0.0-py3-none-any.whl size=19889 sha256=a22f6f9d113874f7a32c9601e4a5d3210f203e71babeab9cf4c75d01209c47af\r\n",
      "  Stored in directory: /Users/mingzhu/Library/Caches/pip/wheels/ce/13/aa/145d9d670feb2cf4a0691b9a3552aafc8a1b49c5162a0f379d\r\n",
      "Successfully built gpustat\r\n",
      "Installing collected packages: typing-extensions, nvidia-ml-py, ray, pydantic, gpustat, stable-baselines3\r\n",
      "  Attempting uninstall: typing-extensions\r\n",
      "    Found existing installation: typing-extensions 4.1.1\r\n",
      "    Uninstalling typing-extensions-4.1.1:\r\n",
      "      Successfully uninstalled typing-extensions-4.1.1\r\n",
      "  Attempting uninstall: ray\r\n",
      "    Found existing installation: ray 1.12.1\r\n",
      "    Uninstalling ray-1.12.1:\r\n",
      "      Successfully uninstalled ray-1.12.1\r\n",
      "  Attempting uninstall: gpustat\r\n",
      "    Found existing installation: gpustat 1.0.0b1\r\n",
      "    Uninstalling gpustat-1.0.0b1:\r\n",
      "      Successfully uninstalled gpustat-1.0.0b1\r\n",
      "  Attempting uninstall: stable-baselines3\r\n",
      "    Found existing installation: stable-baselines3 1.5.0\r\n",
      "    Uninstalling stable-baselines3-1.5.0:\r\n",
      "      Successfully uninstalled stable-baselines3-1.5.0\r\n",
      "\u001B[31mERROR: pip's dependency resolver does not currently take into account all the packages that are installed. This behaviour is the source of the following dependency conflicts.\r\n",
      "functorch 0.2.1 requires torch<1.13,>=1.12.1, but you have torch 1.13.1 which is incompatible.\u001B[0m\r\n",
      "Successfully installed gpustat-1.0.0 nvidia-ml-py-11.495.46 pydantic-1.10.6 ray-2.3.0 stable-baselines3-1.7.0 typing-extensions-4.5.0\r\n"
     ]
    }
   ],
   "source": [
    "## install required packages\n",
    "!pip install swig\n",
    "!pip install wrds\n",
    "!pip install pyportfolioopt\n",
    "## install finrl library\n",
    "!pip install git+https://github.com/AI4Finance-Foundation/FinRL.git"
   ]
  },
  {
   "cell_type": "code",
   "source": [
    "import sys\n",
    "import pandas as pd\n",
    "import numpy as np\n",
    "import matplotlib.pyplot as plt\n",
    "\n",
    "from finrl.meta.preprocessor.yahoodownloader import YahooDownloader\n",
    "from finrl.meta.env_stock_trading.env_stocktrading import StockTradingEnv\n",
    "from finrl.agents.stablebaselines3.models import DRLAgent\n",
    "from stable_baselines3 import A2C, DDPG, PPO, SAC, TD3\n",
    "\n",
    "%matplotlib inline\n",
    "from finrl.config import INDICATORS"
   ],
   "metadata": {
    "id": "mqfBOKz-qJYF"
   },
   "execution_count": 2,
   "outputs": []
  },
  {
   "cell_type": "code",
   "source": [],
   "metadata": {
    "id": "kyv8fz5rqM7H"
   },
   "execution_count": 2,
   "outputs": []
  },
  {
   "cell_type": "markdown",
   "source": [
    "# Part 2. Backtesting"
   ],
   "metadata": {
    "id": "mUF2P4hmqVjh"
   }
  },
  {
   "cell_type": "markdown",
   "source": [
    "To backtest the agents, upload trade_data.csv in the same directory of this notebook. For Colab users, just upload trade_data.csv to the default directory."
   ],
   "metadata": {
    "id": "BdU6qLsVWDxI"
   }
  },
  {
   "cell_type": "code",
   "source": [
    "train = pd.read_csv('train_data.csv')\n",
    "trade = pd.read_csv('trade_data.csv')\n",
    "\n",
    "# If you are not using the data generated from part 1 of this tutorial, make sure \n",
    "# it has the columns and index in the form that could be make into the environment. \n",
    "# Then you can comment and skip the following lines.\n",
    "train = train.set_index(train.columns[0])\n",
    "train.index.names = ['']\n",
    "trade = trade.set_index(trade.columns[0])\n",
    "trade.index.names = ['']"
   ],
   "metadata": {
    "id": "mSjBHn_MZr4U"
   },
   "execution_count": 3,
   "outputs": []
  },
  {
   "cell_type": "markdown",
   "source": [
    "Then, upload the trained agent to the same directory, and set the corresponding variable to True."
   ],
   "metadata": {
    "id": "qu4Ey54b36oL"
   }
  },
  {
   "cell_type": "code",
   "source": [
    "if_using_a2c = True\n",
    "if_using_ddpg = False\n",
    "if_using_ppo = False\n",
    "if_using_td3 = False\n",
    "if_using_sac = False"
   ],
   "metadata": {
    "id": "Z_mVZM4IIa55"
   },
   "execution_count": 4,
   "outputs": []
  },
  {
   "cell_type": "markdown",
   "source": [
    "Load the agents"
   ],
   "metadata": {
    "id": "73D4oRqAIkYj"
   }
  },
  {
   "cell_type": "code",
   "source": [
    "trained_a2c = A2C.load(\"agent_a2c\") if if_using_a2c else None\n",
    "trained_ddpg = DDPG.load(\"agent_ddpg\") if if_using_ddpg else None\n",
    "trained_ppo = PPO.load(\"agent_ppo\") if if_using_ppo else None\n",
    "trained_td3 = TD3.load(\"agent_td3\") if if_using_td3 else None\n",
    "trained_sac = SAC.load(\"agent_sac\") if if_using_sac else None"
   ],
   "metadata": {
    "id": "6CagrX0I36ZN"
   },
   "execution_count": 5,
   "outputs": [
    {
     "name": "stderr",
     "output_type": "stream",
     "text": [
      "/Users/mingzhu/opt/anaconda3/lib/python3.9/site-packages/stable_baselines3/common/save_util.py:166: UserWarning: Could not deserialize object lr_schedule. Consider using `custom_objects` argument to replace this object.\n",
      "Exception: Can't get attribute '_make_function' on <module 'cloudpickle.cloudpickle' from '/Users/mingzhu/opt/anaconda3/lib/python3.9/site-packages/cloudpickle/cloudpickle.py'>\n",
      "  warnings.warn(\n"
     ]
    }
   ]
  },
  {
   "cell_type": "markdown",
   "metadata": {
    "id": "U5mmgQF_h1jQ"
   },
   "source": [
    "### Trading (Out-of-sample Performance)\n",
    "\n",
    "We update periodically in order to take full advantage of the data, e.g., retrain quarterly, monthly or weekly. We also tune the parameters along the way, in this notebook we use the in-sample data from 2009-01 to 2020-07 to tune the parameters once, so there is some alpha decay here as the length of trade date extends. \n",
    "\n",
    "Numerous hyperparameters – e.g. the learning rate, the total number of samples to train on – influence the learning process and are usually determined by testing some variations."
   ]
  },
  {
   "cell_type": "code",
   "source": [
    "stock_dimension = len(trade.tic.unique())\n",
    "state_space = 1 + 2*stock_dimension + len(INDICATORS)*stock_dimension\n",
    "print(f\"Stock Dimension: {stock_dimension}, State Space: {state_space}\")"
   ],
   "metadata": {
    "colab": {
     "base_uri": "https://localhost:8080/"
    },
    "id": "4H_w3SaBAkKU",
    "outputId": "fdaed3a7-d3a9-4cde-d194-ee4576057175"
   },
   "execution_count": 6,
   "outputs": [
    {
     "name": "stdout",
     "output_type": "stream",
     "text": [
      "Stock Dimension: 29, State Space: 291\n"
     ]
    }
   ]
  },
  {
   "cell_type": "code",
   "source": [
    "buy_cost_list = sell_cost_list = [0.001] * stock_dimension\n",
    "num_stock_shares = [0] * stock_dimension\n",
    "\n",
    "env_kwargs = {\n",
    "    \"hmax\": 100,\n",
    "    \"initial_amount\": 1000000,\n",
    "    \"num_stock_shares\": num_stock_shares,\n",
    "    \"buy_cost_pct\": buy_cost_list,\n",
    "    \"sell_cost_pct\": sell_cost_list,\n",
    "    \"state_space\": state_space,\n",
    "    \"stock_dim\": stock_dimension,\n",
    "    \"tech_indicator_list\": INDICATORS,\n",
    "    \"action_space\": stock_dimension,\n",
    "    \"reward_scaling\": 1e-4\n",
    "}"
   ],
   "metadata": {
    "id": "nKNmQMqGAknW"
   },
   "execution_count": 7,
   "outputs": []
  },
  {
   "cell_type": "code",
   "execution_count": 8,
   "metadata": {
    "id": "cIqoV0GSI52v"
   },
   "outputs": [],
   "source": [
    "e_trade_gym = StockTradingEnv(df = trade, turbulence_threshold = 70,risk_indicator_col='vix', **env_kwargs)\n",
    "# env_trade, obs_trade = e_trade_gym.get_sb_env()"
   ]
  },
  {
   "cell_type": "code",
   "source": [
    "df_account_value_a2c, df_actions_a2c = DRLAgent.DRL_prediction(\n",
    "    model=trained_a2c, \n",
    "    environment = e_trade_gym) if if_using_a2c else (None, None)"
   ],
   "metadata": {
    "id": "lbFchno5j3xs",
    "colab": {
     "base_uri": "https://localhost:8080/"
    },
    "outputId": "44fffa47-3b47-4e7b-96c2-0a485e9efead"
   },
   "execution_count": 9,
   "outputs": [
    {
     "name": "stdout",
     "output_type": "stream",
     "text": [
      "hit end!\n"
     ]
    }
   ]
  },
  {
   "cell_type": "code",
   "source": [
    "df_account_value_ddpg, df_actions_ddpg = DRLAgent.DRL_prediction(\n",
    "    model=trained_ddpg, \n",
    "    environment = e_trade_gym) if if_using_ddpg else (None, None)"
   ],
   "metadata": {
    "id": "JbYljWGjj3pH"
   },
   "execution_count": 10,
   "outputs": []
  },
  {
   "cell_type": "code",
   "source": [
    "df_account_value_ppo, df_actions_ppo = DRLAgent.DRL_prediction(\n",
    "    model=trained_ppo, \n",
    "    environment = e_trade_gym) if if_using_ppo else (None, None)"
   ],
   "metadata": {
    "id": "74jNP2DBj3hb"
   },
   "execution_count": 11,
   "outputs": []
  },
  {
   "cell_type": "code",
   "source": [
    "df_account_value_td3, df_actions_td3 = DRLAgent.DRL_prediction(\n",
    "    model=trained_td3, \n",
    "    environment = e_trade_gym) if if_using_td3 else (None, None)"
   ],
   "metadata": {
    "id": "S7VyGGJPj3SH"
   },
   "execution_count": 12,
   "outputs": []
  },
  {
   "cell_type": "code",
   "execution_count": 13,
   "metadata": {
    "id": "eLOnL5eYh1jR",
    "colab": {
     "base_uri": "https://localhost:8080/"
    },
    "outputId": "70e50e24-aed5-49f9-cdd7-de6b9689d9ce"
   },
   "outputs": [],
   "source": [
    "df_account_value_sac, df_actions_sac = DRLAgent.DRL_prediction(\n",
    "    model=trained_sac, \n",
    "    environment = e_trade_gym) if if_using_sac else (None, None)"
   ]
  },
  {
   "cell_type": "markdown",
   "metadata": {
    "id": "GcE-t08w6DaW"
   },
   "source": [
    "# Part 3: Mean Variance Optimization"
   ]
  },
  {
   "cell_type": "markdown",
   "source": [
    "Mean Variance optimization is a very classic strategy in portfolio management. Here, we go through the whole process to do the mean variance optimization and add it as a baseline to compare.\n",
    "\n",
    "First, process dataframe to the form for MVO weight calculation."
   ],
   "metadata": {
    "id": "17TUs71EWj09"
   }
  },
  {
   "cell_type": "code",
   "source": [
    "def process_df_for_mvo(df):\n",
    "  df = df.sort_values(['date','tic'],ignore_index=True)[['date','tic','close']]\n",
    "  fst = df\n",
    "  fst = fst.iloc[0:stock_dimension, :]\n",
    "  tic = fst['tic'].tolist()\n",
    "\n",
    "  mvo = pd.DataFrame()\n",
    "\n",
    "  for k in range(len(tic)):\n",
    "    mvo[tic[k]] = 0\n",
    "\n",
    "  for i in range(df.shape[0]//stock_dimension):\n",
    "    n = df\n",
    "    n = n.iloc[i * stock_dimension:(i+1) * stock_dimension, :]\n",
    "    date = n['date'][i*stock_dimension]\n",
    "    mvo.loc[date] = n['close'].tolist()\n",
    "  \n",
    "  return mvo"
   ],
   "metadata": {
    "id": "wungSNOwPwKR"
   },
   "execution_count": 14,
   "outputs": []
  },
  {
   "cell_type": "markdown",
   "source": [
    "### Helper functions for mean returns and variance-covariance matrix"
   ],
   "metadata": {
    "id": "SwEwkHJ1d_6u"
   }
  },
  {
   "cell_type": "code",
   "execution_count": 15,
   "metadata": {
    "id": "6KvXkpyE8MFq"
   },
   "outputs": [],
   "source": [
    "# Codes in this section partially refer to Dr G A Vijayalakshmi Pai\n",
    "\n",
    "# https://www.kaggle.com/code/vijipai/lesson-5-mean-variance-optimization-of-portfolios/notebook\n",
    "\n",
    "def StockReturnsComputing(StockPrice, Rows, Columns): \n",
    "  import numpy as np \n",
    "  StockReturn = np.zeros([Rows-1, Columns]) \n",
    "  for j in range(Columns):        # j: Assets \n",
    "    for i in range(Rows-1):     # i: Daily Prices \n",
    "      StockReturn[i,j]=((StockPrice[i+1, j]-StockPrice[i,j])/StockPrice[i,j])* 100 \n",
    "      \n",
    "  return StockReturn"
   ]
  },
  {
   "cell_type": "markdown",
   "source": [
    "### Calculate the weights for mean-variance"
   ],
   "metadata": {
    "id": "IeVVbuwveJ_5"
   }
  },
  {
   "cell_type": "code",
   "source": [
    "StockData = process_df_for_mvo(train)\n",
    "TradeData = process_df_for_mvo(trade)\n",
    "\n",
    "TradeData.to_numpy()"
   ],
   "metadata": {
    "colab": {
     "base_uri": "https://localhost:8080/"
    },
    "id": "kE8nruKLQYLO",
    "outputId": "42d07c80-f309-49f8-f2b4-36a51987086f"
   },
   "execution_count": 16,
   "outputs": [
    {
     "data": {
      "text/plain": "array([[ 89.49456024, 236.68336487,  91.07846832, ...,  47.76708984,\n         36.77029419, 115.09746552],\n       [ 89.49456024, 239.5778656 ,  91.34962463, ...,  47.8719368 ,\n         37.7597084 , 114.63588715],\n       [ 91.88856506, 237.73167419,  93.52852631, ...,  48.26512527,\n         38.82108688, 114.32815552],\n       ...,\n       [147.34196472, 199.59692383, 179.35403442, ...,  49.0795784 ,\n         46.59321594, 147.1452179 ],\n       [148.01603699, 200.60627747, 178.0160675 , ...,  49.54628754,\n         45.73177719, 145.86064148],\n       [147.55014038, 198.58753967, 175.14343262, ...,  49.12624741,\n         44.60528946, 144.66436768]])"
     },
     "execution_count": 16,
     "metadata": {},
     "output_type": "execute_result"
    }
   ]
  },
  {
   "cell_type": "code",
   "execution_count": 17,
   "metadata": {
    "id": "u6_O6vrn_uD4",
    "colab": {
     "base_uri": "https://localhost:8080/"
    },
    "outputId": "0c2f8bf7-07e7-4fe5-c409-93312b95a8dd"
   },
   "outputs": [
    {
     "name": "stdout",
     "output_type": "stream",
     "text": [
      "Mean returns of assets in k-portfolio 1\n",
      " [0.136 0.068 0.086 0.083 0.066 0.134 0.06  0.035 0.072 0.056 0.103 0.073\n",
      " 0.033 0.076 0.047 0.073 0.042 0.056 0.054 0.056 0.103 0.089 0.041 0.053\n",
      " 0.104 0.11  0.044 0.042 0.042]\n",
      "Variance-Covariance matrix of returns\n",
      " [[3.156 1.066 1.768 1.669 1.722 1.814 1.569 1.302 1.302 1.811 1.303 1.432\n",
      "  1.218 1.674 0.74  1.839 0.719 0.884 1.241 0.823 1.561 1.324 0.752 1.027\n",
      "  1.298 1.466 0.657 1.078 0.631]\n",
      " [1.066 2.571 1.306 1.123 1.193 1.319 1.116 1.053 1.045 1.269 1.068 1.089\n",
      "  0.899 1.218 0.926 1.391 0.682 0.727 1.025 1.156 1.166 0.984 0.798 0.956\n",
      "  1.259 1.111 0.688 1.091 0.682]\n",
      " [1.768 1.306 4.847 2.73  2.6   2.128 1.944 2.141 2.17  3.142 1.932 2.283\n",
      "  1.56  2.012 0.993 3.707 1.094 1.319 1.845 1.236 1.899 1.894 1.041 1.921\n",
      "  1.823 2.314 0.986 1.421 0.707]\n",
      " [1.669 1.123 2.73  4.892 2.363 1.979 1.7   2.115 1.959 2.387 1.773 2.319\n",
      "  1.571 1.797 0.968 2.597 1.144 1.298 1.643 1.071 1.615 1.775 0.91  1.666\n",
      "  1.707 1.784 0.82  1.345 0.647]\n",
      " [1.722 1.193 2.6   2.363 4.019 2.127 1.917 2.059 1.817 2.46  1.577 2.238\n",
      "  1.513 1.929 0.925 2.64  0.947 0.971 1.894 1.089 1.711 1.642 0.865 1.456\n",
      "  1.478 1.687 0.92  1.326 0.697]\n",
      " [1.814 1.319 2.128 1.979 2.127 5.384 1.974 1.549 1.683 2.122 1.624 1.771\n",
      "  1.441 1.939 0.846 2.191 0.837 1.075 1.475 1.041 1.978 1.768 0.784 1.328\n",
      "  1.365 1.912 0.787 1.28  0.666]\n",
      " [1.569 1.116 1.944 1.7   1.917 1.974 3.081 1.483 1.534 1.937 1.367 1.62\n",
      "  1.399 1.843 0.894 2.057 0.794 0.905 1.438 1.014 1.72  1.382 0.865 1.206\n",
      "  1.273 1.488 0.811 1.173 0.753]\n",
      " [1.302 1.053 2.141 2.115 2.059 1.549 1.483 2.842 1.525 2.044 1.428 1.783\n",
      "  1.308 1.533 0.878 2.279 0.938 1.092 1.385 1.078 1.429 1.314 0.831 1.459\n",
      "  1.466 1.48  0.83  1.042 0.567]\n",
      " [1.302 1.045 2.17  1.959 1.817 1.683 1.534 1.525 2.661 1.987 1.454 1.748\n",
      "  1.217 1.475 0.791 2.216 0.896 0.973 1.396 0.949 1.379 1.407 0.859 1.268\n",
      "  1.281 1.454 0.81  1.143 0.667]\n",
      " [1.811 1.269 3.142 2.387 2.46  2.122 1.937 2.044 1.987 4.407 1.789 2.12\n",
      "  1.593 1.982 0.945 3.96  0.956 1.094 1.758 1.157 1.788 1.692 0.905 1.879\n",
      "  1.712 2.    0.945 1.421 0.713]\n",
      " [1.303 1.068 1.932 1.773 1.577 1.624 1.367 1.428 1.454 1.789 2.373 1.51\n",
      "  1.166 1.501 0.756 1.941 0.824 0.998 1.239 0.887 1.366 1.414 0.797 1.299\n",
      "  1.296 1.41  0.764 1.071 0.783]\n",
      " [1.432 1.089 2.283 2.319 2.238 1.771 1.62  1.783 1.748 2.12  1.51  2.516\n",
      "  1.326 1.575 0.889 2.345 0.958 1.022 1.623 1.02  1.489 1.532 0.848 1.377\n",
      "  1.444 1.547 0.81  1.211 0.63 ]\n",
      " [1.218 0.899 1.56  1.571 1.513 1.441 1.399 1.308 1.217 1.593 1.166 1.326\n",
      "  2.052 1.399 0.727 1.749 0.786 0.795 1.154 0.829 1.296 1.12  0.743 1.105\n",
      "  1.088 1.214 0.739 0.998 0.598]\n",
      " [1.674 1.218 2.012 1.797 1.929 1.939 1.843 1.533 1.475 1.982 1.501 1.575\n",
      "  1.399 3.289 0.853 2.112 0.85  0.89  1.412 1.002 1.9   1.352 0.842 1.317\n",
      "  1.334 1.487 0.847 1.165 0.766]\n",
      " [0.74  0.926 0.993 0.968 0.925 0.846 0.894 0.878 0.791 0.945 0.756 0.889\n",
      "  0.727 0.853 1.153 1.027 0.642 0.59  0.848 0.892 0.825 0.748 0.694 0.761\n",
      "  0.929 0.819 0.61  0.806 0.547]\n",
      " [1.839 1.391 3.707 2.597 2.64  2.191 2.057 2.279 2.216 3.96  1.941 2.345\n",
      "  1.749 2.112 1.027 5.271 1.08  1.235 1.892 1.297 1.91  1.85  1.068 2.164\n",
      "  1.85  2.169 1.112 1.555 0.779]\n",
      " [0.719 0.682 1.094 1.144 0.947 0.837 0.794 0.938 0.896 0.956 0.824 0.958\n",
      "  0.786 0.85  0.642 1.08  1.264 0.679 0.804 0.74  0.819 0.845 0.749 0.891\n",
      "  0.849 0.794 0.633 0.719 0.514]\n",
      " [0.884 0.727 1.319 1.298 0.971 1.075 0.905 1.092 0.973 1.094 0.998 1.022\n",
      "  0.795 0.89  0.59  1.235 0.679 1.518 0.816 0.719 0.943 1.027 0.615 1.\n",
      "  0.947 0.994 0.533 0.673 0.504]\n",
      " [1.241 1.025 1.845 1.643 1.894 1.475 1.438 1.385 1.396 1.758 1.239 1.623\n",
      "  1.154 1.412 0.848 1.892 0.804 0.816 2.028 0.9   1.265 1.243 0.787 1.194\n",
      "  1.193 1.282 0.752 1.099 0.622]\n",
      " [0.823 1.156 1.236 1.071 1.089 1.041 1.014 1.078 0.949 1.157 0.887 1.02\n",
      "  0.829 1.002 0.892 1.297 0.74  0.719 0.9   2.007 0.952 0.849 0.732 1.008\n",
      "  1.15  0.933 0.722 0.897 0.614]\n",
      " [1.561 1.166 1.899 1.615 1.711 1.978 1.72  1.429 1.379 1.788 1.366 1.489\n",
      "  1.296 1.9   0.825 1.91  0.819 0.943 1.265 0.952 2.759 1.308 0.832 1.214\n",
      "  1.285 1.493 0.793 1.113 0.705]\n",
      " [1.324 0.984 1.894 1.775 1.642 1.768 1.382 1.314 1.407 1.692 1.414 1.532\n",
      "  1.12  1.352 0.748 1.85  0.845 1.027 1.243 0.849 1.308 2.864 0.751 1.153\n",
      "  1.26  1.411 0.71  1.046 0.651]\n",
      " [0.752 0.798 1.041 0.91  0.865 0.784 0.865 0.831 0.859 0.905 0.797 0.848\n",
      "  0.743 0.842 0.694 1.068 0.749 0.615 0.787 0.732 0.832 0.751 1.289 0.806\n",
      "  0.766 0.763 0.663 0.797 0.645]\n",
      " [1.027 0.956 1.921 1.666 1.456 1.328 1.206 1.459 1.268 1.879 1.299 1.377\n",
      "  1.105 1.317 0.761 2.164 0.891 1.    1.194 1.008 1.214 1.153 0.806 2.27\n",
      "  1.259 1.294 0.812 0.986 0.676]\n",
      " [1.298 1.259 1.823 1.707 1.478 1.365 1.273 1.466 1.281 1.712 1.296 1.444\n",
      "  1.088 1.334 0.929 1.85  0.849 0.947 1.193 1.15  1.285 1.26  0.766 1.259\n",
      "  3.352 1.267 0.697 1.137 0.685]\n",
      " [1.466 1.111 2.314 1.784 1.687 1.912 1.488 1.48  1.454 2.    1.41  1.547\n",
      "  1.214 1.487 0.819 2.169 0.794 0.994 1.282 0.933 1.493 1.411 0.763 1.294\n",
      "  1.267 2.982 0.709 1.007 0.656]\n",
      " [0.657 0.688 0.986 0.82  0.92  0.787 0.811 0.83  0.81  0.945 0.764 0.81\n",
      "  0.739 0.847 0.61  1.112 0.633 0.533 0.752 0.722 0.793 0.71  0.663 0.812\n",
      "  0.697 0.709 1.371 0.697 0.561]\n",
      " [1.078 1.091 1.421 1.345 1.326 1.28  1.173 1.042 1.143 1.421 1.071 1.211\n",
      "  0.998 1.165 0.806 1.555 0.719 0.673 1.099 0.897 1.113 1.046 0.797 0.986\n",
      "  1.137 1.007 0.697 3.073 0.759]\n",
      " [0.631 0.682 0.707 0.647 0.697 0.666 0.753 0.567 0.667 0.713 0.783 0.63\n",
      "  0.598 0.766 0.547 0.779 0.514 0.504 0.622 0.614 0.705 0.651 0.645 0.676\n",
      "  0.685 0.656 0.561 0.759 1.452]]\n"
     ]
    }
   ],
   "source": [
    "#compute asset returns\n",
    "arStockPrices = np.asarray(StockData)\n",
    "[Rows, Cols]=arStockPrices.shape\n",
    "arReturns = StockReturnsComputing(arStockPrices, Rows, Cols)\n",
    "\n",
    "#compute mean returns and variance covariance matrix of returns\n",
    "meanReturns = np.mean(arReturns, axis = 0)\n",
    "covReturns = np.cov(arReturns, rowvar=False)\n",
    " \n",
    "#set precision for printing results\n",
    "np.set_printoptions(precision=3, suppress = True)\n",
    "\n",
    "#display mean returns and variance-covariance matrix of returns\n",
    "print('Mean returns of assets in k-portfolio 1\\n', meanReturns)\n",
    "print('Variance-Covariance matrix of returns\\n', covReturns)"
   ]
  },
  {
   "cell_type": "markdown",
   "source": [
    "### Use PyPortfolioOpt"
   ],
   "metadata": {
    "id": "zC7r-cI8RR1X"
   }
  },
  {
   "cell_type": "code",
   "source": [
    "from pypfopt.efficient_frontier import EfficientFrontier\n",
    "\n",
    "ef_mean = EfficientFrontier(meanReturns, covReturns, weight_bounds=(0, 0.5))\n",
    "raw_weights_mean = ef_mean.max_sharpe()\n",
    "cleaned_weights_mean = ef_mean.clean_weights()\n",
    "mvo_weights = np.array([1000000 * cleaned_weights_mean[i] for i in range(29)])\n",
    "mvo_weights"
   ],
   "metadata": {
    "id": "b1btTONEdCU4",
    "colab": {
     "base_uri": "https://localhost:8080/"
    },
    "outputId": "75096462-7dfb-4ce6-c6f4-4671f11e79fc"
   },
   "execution_count": 18,
   "outputs": [
    {
     "data": {
      "text/plain": "array([424250.,      0.,      0.,      0.,      0., 108650.,      0.,\n            0.,      0.,      0., 181450.,      0.,      0.,      0.,\n            0.,      0.,      0.,      0.,      0.,      0.,  16960.,\n            0.,      0.,      0., 133540., 135150.,      0.,      0.,\n            0.])"
     },
     "execution_count": 18,
     "metadata": {},
     "output_type": "execute_result"
    }
   ]
  },
  {
   "cell_type": "code",
   "source": [
    "LastPrice = np.array([1/p for p in StockData.tail(1).to_numpy()[0]])\n",
    "Initial_Portfolio = np.multiply(mvo_weights, LastPrice)\n",
    "Initial_Portfolio"
   ],
   "metadata": {
    "id": "F38NJRJJgOmj",
    "colab": {
     "base_uri": "https://localhost:8080/"
    },
    "outputId": "f575651b-1e9b-4015-ae71-c9fc2c3a3dae"
   },
   "execution_count": 19,
   "outputs": [
    {
     "data": {
      "text/plain": "array([4731.544,    0.   ,    0.   ,    0.   ,    0.   ,  579.993,\n          0.   ,    0.   ,    0.   ,    0.   ,  766.21 ,    0.   ,\n          0.   ,    0.   ,    0.   ,    0.   ,    0.   ,    0.   ,\n          0.   ,    0.   ,   85.251,    0.   ,    0.   ,    0.   ,\n        468.596,  712.801,    0.   ,    0.   ,    0.   ])"
     },
     "execution_count": 19,
     "metadata": {},
     "output_type": "execute_result"
    }
   ]
  },
  {
   "cell_type": "code",
   "source": [
    "Portfolio_Assets = TradeData @ Initial_Portfolio\n",
    "MVO_result = pd.DataFrame(Portfolio_Assets, columns=[\"Mean Var\"])\n",
    "# MVO_result"
   ],
   "metadata": {
    "id": "ZAd1iXqZhQ6X"
   },
   "execution_count": 20,
   "outputs": []
  },
  {
   "cell_type": "markdown",
   "source": [
    "# Part 4: DJIA index"
   ],
   "metadata": {
    "id": "I5sgGe7g1HsL"
   }
  },
  {
   "cell_type": "markdown",
   "source": [
    "Add DJIA index as a baseline to compare with."
   ],
   "metadata": {
    "id": "sVe_ufxTY2CW"
   }
  },
  {
   "cell_type": "code",
   "source": [
    "TRAIN_START_DATE = '2009-01-01'\n",
    "TRAIN_END_DATE = '2020-07-01'\n",
    "TRADE_START_DATE = '2020-07-01'\n",
    "TRADE_END_DATE = '2021-10-29'"
   ],
   "metadata": {
    "id": "sACPzsI-6k8q"
   },
   "execution_count": 21,
   "outputs": []
  },
  {
   "cell_type": "code",
   "source": [
    "df_dji = YahooDownloader(start_date = TRADE_START_DATE,\n",
    "                     end_date = TRADE_END_DATE,\n",
    "                     ticker_list = ['dji']).fetch_data()\n",
    "# df_dji"
   ],
   "metadata": {
    "colab": {
     "base_uri": "https://localhost:8080/"
    },
    "id": "TuszW-OB1K0m",
    "outputId": "b89a8350-de58-4fea-8e4b-856efa872712"
   },
   "execution_count": 22,
   "outputs": [
    {
     "name": "stdout",
     "output_type": "stream",
     "text": [
      "[*********************100%***********************]  1 of 1 completed\n",
      "Shape of DataFrame:  (320, 8)\n"
     ]
    },
    {
     "name": "stderr",
     "output_type": "stream",
     "text": [
      "/Users/mingzhu/opt/anaconda3/lib/python3.9/site-packages/finrl/meta/preprocessor/yahoodownloader.py:54: FutureWarning: The frame.append method is deprecated and will be removed from pandas in a future version. Use pandas.concat instead.\n",
      "  data_df = data_df.append(temp_df)\n"
     ]
    }
   ]
  },
  {
   "cell_type": "code",
   "source": [
    "df_dji = df_dji[['date','close']]\n",
    "fst_day = df_dji['close'][0]\n",
    "dji = pd.merge(df_dji['date'], df_dji['close'].div(fst_day).mul(1000000), \n",
    "               how='outer', left_index=True, right_index=True).set_index('date')\n",
    "# dji"
   ],
   "metadata": {
    "id": "Q3RXz72U1VbV"
   },
   "execution_count": 23,
   "outputs": []
  },
  {
   "cell_type": "markdown",
   "metadata": {
    "id": "W6vvNSC6h1jZ"
   },
   "source": [
    "<a id='4'></a>\n",
    "# Part 5: Backtesting Results\n",
    "Backtesting plays a key role in evaluating the performance of a trading strategy. Automated backtesting tool is preferred because it reduces the human error. We usually use the Quantopian pyfolio package to backtest our trading strategies. It is easy to use and consists of various individual plots that provide a comprehensive image of the performance of a trading strategy."
   ]
  },
  {
   "cell_type": "code",
   "source": [
    "df_result_a2c = df_account_value_a2c.set_index(df_account_value_a2c.columns[0]) if if_using_a2c else None\n",
    "df_result_ddpg = df_account_value_ddpg.set_index(df_account_value_ddpg.columns[0]) if if_using_ddpg else None\n",
    "df_result_ppo = df_account_value_ppo.set_index(df_account_value_ppo.columns[0]) if if_using_ppo else None\n",
    "df_result_td3 = df_account_value_td3.set_index(df_account_value_td3.columns[0]) if if_using_td3 else None\n",
    "df_result_sac = df_account_value_sac.set_index(df_account_value_sac.columns[0]) if if_using_sac else None\n",
    "\n",
    "result = pd.DataFrame()\n",
    "if if_using_a2c: result = pd.merge(result, df_result_a2c, how='outer', left_index=True, right_index=True)\n",
    "if if_using_ddpg: result = pd.merge(result, df_result_ddpg, how='outer', left_index=True, right_index=True)\n",
    "if if_using_ppo: result = pd.merge(result, df_result_ppo, how='outer', left_index=True, right_index=True)\n",
    "if if_using_td3: result = pd.merge(result, df_result_td3, how='outer', left_index=True, right_index=True)\n",
    "if if_using_sac: result = pd.merge(result, df_result_sac, how='outer', left_index=True, right_index=True)\n",
    "result = pd.merge(result, MVO_result, how='outer', left_index=True, right_index=True)\n",
    "result = pd.merge(result, dji, how='outer', left_index=True, right_index=True).fillna(method='bfill')"
   ],
   "metadata": {
    "id": "KeDeGAc9VrEg"
   },
   "execution_count": 24,
   "outputs": []
  },
  {
   "cell_type": "code",
   "source": [
    "col_name = []\n",
    "col_name.append('A2C') if if_using_a2c else None\n",
    "col_name.append('DDPG') if if_using_ddpg else None\n",
    "col_name.append('PPO') if if_using_ppo else None\n",
    "col_name.append('TD3') if if_using_td3 else None\n",
    "col_name.append('SAC') if if_using_sac else None\n",
    "col_name.append('Mean Var')\n",
    "col_name.append('djia') \n",
    "result.columns = col_name"
   ],
   "metadata": {
    "id": "JvlTVQwsiMyx"
   },
   "execution_count": 25,
   "outputs": []
  },
  {
   "cell_type": "code",
   "source": [
    "result"
   ],
   "metadata": {
    "id": "l4FZxyDt3XaE",
    "colab": {
     "base_uri": "https://localhost:8080/",
     "height": 455
    },
    "outputId": "2e739637-bf88-4698-9cf1-9a526452e465"
   },
   "execution_count": 26,
   "outputs": [
    {
     "data": {
      "text/plain": "                     A2C      Mean Var          djia\ndate                                                \n2020-06-30  1.000000e+06  1.001917e+06  1.000000e+06\n2020-07-01  1.000000e+06  1.001917e+06  9.969821e+05\n2020-07-02  1.000943e+06  1.004234e+06  1.018367e+06\n2020-07-06  1.006884e+06  1.023225e+06  1.018367e+06\n2020-07-07  9.960292e+05  1.014021e+06  1.002995e+06\n...                  ...           ...           ...\n2021-10-22  1.778274e+06  1.535667e+06  1.382138e+06\n2021-10-25  1.779493e+06  1.542077e+06  1.384622e+06\n2021-10-26  1.787692e+06  1.545514e+06  1.385234e+06\n2021-10-27  1.761977e+06  1.534916e+06  1.374921e+06\n2021-10-28           NaN           NaN  1.384211e+06\n\n[337 rows x 3 columns]",
      "text/html": "<div>\n<style scoped>\n    .dataframe tbody tr th:only-of-type {\n        vertical-align: middle;\n    }\n\n    .dataframe tbody tr th {\n        vertical-align: top;\n    }\n\n    .dataframe thead th {\n        text-align: right;\n    }\n</style>\n<table border=\"1\" class=\"dataframe\">\n  <thead>\n    <tr style=\"text-align: right;\">\n      <th></th>\n      <th>A2C</th>\n      <th>Mean Var</th>\n      <th>djia</th>\n    </tr>\n    <tr>\n      <th>date</th>\n      <th></th>\n      <th></th>\n      <th></th>\n    </tr>\n  </thead>\n  <tbody>\n    <tr>\n      <th>2020-06-30</th>\n      <td>1.000000e+06</td>\n      <td>1.001917e+06</td>\n      <td>1.000000e+06</td>\n    </tr>\n    <tr>\n      <th>2020-07-01</th>\n      <td>1.000000e+06</td>\n      <td>1.001917e+06</td>\n      <td>9.969821e+05</td>\n    </tr>\n    <tr>\n      <th>2020-07-02</th>\n      <td>1.000943e+06</td>\n      <td>1.004234e+06</td>\n      <td>1.018367e+06</td>\n    </tr>\n    <tr>\n      <th>2020-07-06</th>\n      <td>1.006884e+06</td>\n      <td>1.023225e+06</td>\n      <td>1.018367e+06</td>\n    </tr>\n    <tr>\n      <th>2020-07-07</th>\n      <td>9.960292e+05</td>\n      <td>1.014021e+06</td>\n      <td>1.002995e+06</td>\n    </tr>\n    <tr>\n      <th>...</th>\n      <td>...</td>\n      <td>...</td>\n      <td>...</td>\n    </tr>\n    <tr>\n      <th>2021-10-22</th>\n      <td>1.778274e+06</td>\n      <td>1.535667e+06</td>\n      <td>1.382138e+06</td>\n    </tr>\n    <tr>\n      <th>2021-10-25</th>\n      <td>1.779493e+06</td>\n      <td>1.542077e+06</td>\n      <td>1.384622e+06</td>\n    </tr>\n    <tr>\n      <th>2021-10-26</th>\n      <td>1.787692e+06</td>\n      <td>1.545514e+06</td>\n      <td>1.385234e+06</td>\n    </tr>\n    <tr>\n      <th>2021-10-27</th>\n      <td>1.761977e+06</td>\n      <td>1.534916e+06</td>\n      <td>1.374921e+06</td>\n    </tr>\n    <tr>\n      <th>2021-10-28</th>\n      <td>NaN</td>\n      <td>NaN</td>\n      <td>1.384211e+06</td>\n    </tr>\n  </tbody>\n</table>\n<p>337 rows × 3 columns</p>\n</div>"
     },
     "execution_count": 26,
     "metadata": {},
     "output_type": "execute_result"
    }
   ]
  },
  {
   "cell_type": "markdown",
   "source": [
    "Now, everything is ready, we can plot the backtest result."
   ],
   "metadata": {
    "id": "QQuc5hI9Yklt"
   }
  },
  {
   "cell_type": "code",
   "source": [
    "plt.rcParams[\"figure.figsize\"] = (15,5)\n",
    "plt.figure()\n",
    "result.plot()"
   ],
   "metadata": {
    "id": "6xRfrqK4RVfq",
    "colab": {
     "base_uri": "https://localhost:8080/",
     "height": 381
    },
    "outputId": "469c9729-fd57-417c-9b13-2243426923e2"
   },
   "execution_count": 27,
   "outputs": [
    {
     "data": {
      "text/plain": "<AxesSubplot:xlabel='date'>"
     },
     "execution_count": 27,
     "metadata": {},
     "output_type": "execute_result"
    },
    {
     "data": {
      "text/plain": "<Figure size 1080x360 with 0 Axes>"
     },
     "metadata": {},
     "output_type": "display_data"
    },
    {
     "data": {
      "text/plain": "<Figure size 1080x360 with 1 Axes>",
      "image/png": "[encoded data removed]"
     },
     "metadata": {
      "needs_background": "light"
     },
     "output_type": "display_data"
    }
   ]
  }
 ]
}
